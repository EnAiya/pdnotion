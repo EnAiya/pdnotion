{
 "cells": [
  {
   "cell_type": "code",
   "execution_count": 3,
   "metadata": {},
   "outputs": [],
   "source": [
    "md = \"\"\"\n",
    "# Hello world\n",
    "\n",
    "```mermaid\n",
    "graph LR\n",
    "A --> B\n",
    "```\n",
    "abc\n",
    "def\n",
    "\n",
    "ghi\n",
    "\"\"\""
   ]
  },
  {
   "cell_type": "code",
   "execution_count": 4,
   "metadata": {},
   "outputs": [
    {
     "data": {
      "text/plain": [
       "[['Hello worldgraph LR\\nA --> B\\nabc\\ndef\\n\\nghi']]"
      ]
     },
     "execution_count": 4,
     "metadata": {},
     "output_type": "execute_result"
    }
   ],
   "source": [
    "from notion.markdown import markdown_to_notion\n",
    "\n",
    "markdown_to_notion(md)"
   ]
  },
  {
   "cell_type": "code",
   "execution_count": 9,
   "metadata": {},
   "outputs": [
    {
     "name": "stdout",
     "output_type": "stream",
     "text": [
      "Code block language mermaid has no corresponding syntax in Notion.so\n"
     ]
    },
    {
     "data": {
      "text/plain": [
       "[{'type': notion.block.HeaderBlock, 'title': 'Hello world'},\n",
       " {'type': notion.block.CodeBlock,\n",
       "  'language': '',\n",
       "  'title_plaintext': 'graph LR\\nA --> B\\n'},\n",
       " {'type': notion.block.TextBlock, 'title': 'abc\\ndef'},\n",
       " {'type': notion.block.TextBlock, 'title': 'ghi'}]"
      ]
     },
     "execution_count": 9,
     "metadata": {},
     "output_type": "execute_result"
    }
   ],
   "source": [
    "from md2notion.upload import convert\n",
    "\n",
    "convert(md)"
   ]
  }
 ],
 "metadata": {
  "kernelspec": {
   "display_name": "venv310",
   "language": "python",
   "name": "python3"
  },
  "language_info": {
   "codemirror_mode": {
    "name": "ipython",
    "version": 3
   },
   "file_extension": ".py",
   "mimetype": "text/x-python",
   "name": "python",
   "nbconvert_exporter": "python",
   "pygments_lexer": "ipython3",
   "version": "3.10.7"
  },
  "orig_nbformat": 4
 },
 "nbformat": 4,
 "nbformat_minor": 2
}
