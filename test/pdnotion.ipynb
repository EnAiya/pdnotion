{
 "cells": [
  {
   "cell_type": "code",
   "execution_count": 13,
   "metadata": {},
   "outputs": [
    {
     "name": "stdout",
     "output_type": "stream",
     "text": [
      "The dotenv extension is already loaded. To reload it, use:\n",
      "  %reload_ext dotenv\n"
     ]
    }
   ],
   "source": [
    "%load_ext dotenv\n",
    "%dotenv"
   ]
  },
  {
   "cell_type": "code",
   "execution_count": 14,
   "metadata": {},
   "outputs": [],
   "source": [
    "\n",
    "import os\n",
    "from pdnotion.pdnotion import pdnotion\n",
    "import pandas as pd\n",
    "\n",
    "pdn = pdnotion(os.getenv(\"NOTION_TOKEN\"))\n",
    "DB = os.getenv(\"NOTION_DB\")"
   ]
  },
  {
   "cell_type": "markdown",
   "metadata": {},
   "source": [
    "# insert"
   ]
  },
  {
   "cell_type": "code",
   "execution_count": 15,
   "metadata": {},
   "outputs": [],
   "source": [
    "df = pd.DataFrame([[\"test\",[\"test_tag\"], \"テキスト\"], [\"test2\",[\"test2_tag\"],\"\"]],columns=[\"Name\",\"Tags\",\"Text\"])\n",
    "props = pdn.properties(DB)\n",
    "row = df.iloc[0]\n",
    "pdn.insert(DB,df)"
   ]
  },
  {
   "cell_type": "code",
   "execution_count": 16,
   "metadata": {},
   "outputs": [
    {
     "data": {
      "text/plain": [
       "{'Formula': 'formula',\n",
       " 'Tags': 'multi_select',\n",
       " 'Text': 'rich_text',\n",
       " 'Name': 'title'}"
      ]
     },
     "execution_count": 16,
     "metadata": {},
     "output_type": "execute_result"
    }
   ],
   "source": [
    "props"
   ]
  },
  {
   "cell_type": "markdown",
   "metadata": {},
   "source": [
    "# load"
   ]
  },
  {
   "cell_type": "code",
   "execution_count": 17,
   "metadata": {},
   "outputs": [
    {
     "name": "stdout",
     "output_type": "stream",
     "text": [
      "   Formula         Tags  Text   Name\n",
      "0           [test2_tag]        test2\n",
      "1            [test_tag]  テキスト   test\n",
      "2           [test2_tag]        test2\n",
      "3            [test_tag]  テキスト   test\n",
      "4           [test2_tag]        test2\n",
      "5            [test_tag]  テキスト   test\n",
      "6            [test_tag]  テキスト   test\n",
      "7           [test2_tag]        test2\n",
      "8            [test_tag]         test\n",
      "9           [test2_tag]        test2\n",
      "10           [test_tag]         test\n",
      "11          [test2_tag]        test2\n",
      "12           [test_tag]         test\n",
      "13          [test2_tag]        test2\n",
      "14           [test_tag]         test\n",
      "15          [test2_tag]        test2\n",
      "16           [test_tag]         test\n",
      "17          [test2_tag]        test2\n",
      "18           [test_tag]         test\n",
      "19          [test2_tag]        test2\n",
      "20           [test_tag]         test\n",
      "21           [test_tag]         test\n",
      "22           [test_tag]         test\n",
      "23                   []             \n",
      "24                   []             \n",
      "25                   []             \n"
     ]
    }
   ],
   "source": [
    "tmp = pdn.load(DB)\n",
    "print(tmp)"
   ]
  }
 ],
 "metadata": {
  "kernelspec": {
   "display_name": "Python 3.10.7 ('venv310': venv)",
   "language": "python",
   "name": "python3"
  },
  "language_info": {
   "codemirror_mode": {
    "name": "ipython",
    "version": 3
   },
   "file_extension": ".py",
   "mimetype": "text/x-python",
   "name": "python",
   "nbconvert_exporter": "python",
   "pygments_lexer": "ipython3",
   "version": "3.10.7"
  },
  "orig_nbformat": 4,
  "vscode": {
   "interpreter": {
    "hash": "55361332c53d73faf994ab7cce873e33436df45ecf994c66e43f2512054616ac"
   }
  }
 },
 "nbformat": 4,
 "nbformat_minor": 2
}
