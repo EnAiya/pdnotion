{
 "cells": [
  {
   "cell_type": "code",
   "execution_count": 2,
   "metadata": {},
   "outputs": [
    {
     "name": "stdout",
     "output_type": "stream",
     "text": [
      "The dotenv extension is already loaded. To reload it, use:\n",
      "  %reload_ext dotenv\n"
     ]
    }
   ],
   "source": [
    "%load_ext dotenv\n",
    "%dotenv"
   ]
  },
  {
   "cell_type": "code",
   "execution_count": 3,
   "metadata": {},
   "outputs": [],
   "source": [
    "\n",
    "import os\n",
    "from pdnotion.pdnotion import pdnotion\n",
    "import pandas as pd\n",
    "\n",
    "pdn = pdnotion(os.getenv(\"NOTION_TOKEN\"))\n",
    "DB = os.getenv(\"NOTION_DB\")"
   ]
  },
  {
   "cell_type": "markdown",
   "metadata": {},
   "source": [
    "# insert"
   ]
  },
  {
   "cell_type": "code",
   "execution_count": 4,
   "metadata": {},
   "outputs": [],
   "source": [
    "df = pd.DataFrame([[\"content test\",[\"test_tag\"], \"テキスト\",\"content:\" + \"a\"*3000]],columns=[\"Name\",\"Tags\",\"Text\",\"content\"])\n",
    "props = pdn.properties(DB)\n",
    "row = df.iloc[0]\n",
    "pdn.insert(DB,df,content=\"content\")"
   ]
  },
  {
   "cell_type": "code",
   "execution_count": 5,
   "metadata": {},
   "outputs": [
    {
     "data": {
      "text/plain": [
       "{'Formula': 'formula',\n",
       " 'Tags': 'multi_select',\n",
       " 'Text': 'rich_text',\n",
       " 'Name': 'title'}"
      ]
     },
     "execution_count": 5,
     "metadata": {},
     "output_type": "execute_result"
    }
   ],
   "source": [
    "props"
   ]
  },
  {
   "cell_type": "markdown",
   "metadata": {},
   "source": [
    "# load"
   ]
  },
  {
   "cell_type": "code",
   "execution_count": 6,
   "metadata": {},
   "outputs": [
    {
     "name": "stdout",
     "output_type": "stream",
     "text": [
      "   Formula         Tags  Text          Name  \\\n",
      "0            [test_tag]  テキスト  content test   \n",
      "1            [test_tag]  テキスト  content test   \n",
      "2            [test_tag]  テキスト  content test   \n",
      "3            [test_tag]  テキスト          test   \n",
      "4            [test_tag]  テキスト          test   \n",
      "5           [test2_tag]               test2   \n",
      "6            [test_tag]  テキスト          test   \n",
      "7           [test2_tag]               test2   \n",
      "8            [test_tag]  テキスト          test   \n",
      "9           [test2_tag]               test2   \n",
      "10           [test_tag]  テキスト          test   \n",
      "11          [test2_tag]               test2   \n",
      "12           [test_tag]  テキスト          test   \n",
      "13           [test_tag]  テキスト          test   \n",
      "14          [test2_tag]               test2   \n",
      "15           [test_tag]                test   \n",
      "16          [test2_tag]               test2   \n",
      "17           [test_tag]                test   \n",
      "18          [test2_tag]               test2   \n",
      "19           [test_tag]                test   \n",
      "20          [test2_tag]               test2   \n",
      "21           [test_tag]                test   \n",
      "22          [test2_tag]               test2   \n",
      "23           [test_tag]                test   \n",
      "24          [test2_tag]               test2   \n",
      "25           [test_tag]                test   \n",
      "26          [test2_tag]               test2   \n",
      "27           [test_tag]                test   \n",
      "28           [test_tag]                test   \n",
      "29           [test_tag]                test   \n",
      "30                   []                       \n",
      "31                   []                       \n",
      "32                   []                       \n",
      "\n",
      "                                _page_id  \n",
      "0   12abbc21-ec5e-4ade-923a-4d2161a78313  \n",
      "1   0b8abe77-f158-46a0-9443-9569113cbdf5  \n",
      "2   db88f2ec-8340-49c9-8814-9eae94ee0a19  \n",
      "3   927d09c7-9c7f-4b60-9b88-f7abf401b592  \n",
      "4   8817d852-b968-433f-9e8a-ae510db41f3e  \n",
      "5   86bb6804-fc7a-4982-8e56-326c2c8a0ef4  \n",
      "6   c41a72fb-3ba8-4741-a56f-2d649e686e64  \n",
      "7   09c3c451-da57-4ca4-94bd-d1ad1f0b2c66  \n",
      "8   fddba103-645d-4dc0-9d17-8a2d1d7bdb62  \n",
      "9   6c8212c8-66be-4a67-bd62-8eed92d6aab1  \n",
      "10  44b8f2e1-4a76-4ca8-9b4f-835530678330  \n",
      "11  3ca432f3-2fdc-4bdf-a4f6-07670cd7dac7  \n",
      "12  12843861-de1a-4332-8726-8a9e48eebe8f  \n",
      "13  e3297091-17db-4828-b73d-60b953362f6c  \n",
      "14  d787c831-a3ef-49aa-bce1-b8cd545363e2  \n",
      "15  7b0ba568-cf68-4386-93ce-0d2208dd6e3c  \n",
      "16  e721c6a6-96be-4c6e-bd4b-8fe09811cce7  \n",
      "17  051ddb8f-3a6a-4dcb-b2bd-94b23ed0b48a  \n",
      "18  fef72daa-0e8d-4324-929d-533e85fa2c5b  \n",
      "19  a53226cb-e6ef-410f-8c53-974de79a3b8b  \n",
      "20  fa86a2ba-6279-439a-b5f8-6e825d006801  \n",
      "21  7ba68523-077e-4055-9435-e505c09799db  \n",
      "22  6d3c4dcc-42aa-4bbf-ab18-4528e02efb59  \n",
      "23  9afb4fc9-a0d0-4464-bf4d-51e616f1f01a  \n",
      "24  609c6e52-4be3-473c-8ab4-4becc50d9e65  \n",
      "25  2df4510f-0680-42f4-a926-36806d0529b0  \n",
      "26  dcab5341-4208-48a2-9744-b5653dc3ea3f  \n",
      "27  73cd2661-8576-49a6-abad-c4deef9c70c7  \n",
      "28  9071de25-23cb-4cb8-b993-f21370bf92ed  \n",
      "29  9c644924-e00b-429a-88a5-33b8c8f678a8  \n",
      "30  5931cc3b-a8ac-4fe8-99d8-b314f1a0c2c9  \n",
      "31  b7ee40c9-52ea-43a1-81e7-62d0dd3fa693  \n",
      "32  e9216a58-9e29-496f-a8b5-55d17fc59950  \n"
     ]
    }
   ],
   "source": [
    "tmp = pdn.load(DB)\n",
    "print(tmp)"
   ]
  },
  {
   "cell_type": "code",
   "execution_count": 8,
   "metadata": {},
   "outputs": [
    {
     "data": {
      "text/plain": [
       "Formula                                         \n",
       "Tags                                  [test_tag]\n",
       "Text                                        テキスト\n",
       "Name                                content test\n",
       "_page_id    12abbc21-ec5e-4ade-923a-4d2161a78313\n",
       "Name: 0, dtype: object"
      ]
     },
     "execution_count": 8,
     "metadata": {},
     "output_type": "execute_result"
    }
   ],
   "source": [
    "tmp.iloc[0]"
   ]
  }
 ],
 "metadata": {
  "kernelspec": {
   "display_name": "Python 3.10.7 ('venv310': venv)",
   "language": "python",
   "name": "python3"
  },
  "language_info": {
   "codemirror_mode": {
    "name": "ipython",
    "version": 3
   },
   "file_extension": ".py",
   "mimetype": "text/x-python",
   "name": "python",
   "nbconvert_exporter": "python",
   "pygments_lexer": "ipython3",
   "version": "3.10.7"
  },
  "orig_nbformat": 4,
  "vscode": {
   "interpreter": {
    "hash": "55361332c53d73faf994ab7cce873e33436df45ecf994c66e43f2512054616ac"
   }
  }
 },
 "nbformat": 4,
 "nbformat_minor": 2
}
