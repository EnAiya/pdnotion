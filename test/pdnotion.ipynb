{
 "cells": [
  {
   "cell_type": "code",
   "execution_count": 1,
   "metadata": {},
   "outputs": [],
   "source": [
    "%load_ext dotenv\n",
    "%dotenv"
   ]
  },
  {
   "cell_type": "code",
   "execution_count": 5,
   "metadata": {},
   "outputs": [
    {
     "ename": "ImportError",
     "evalue": "attempted relative import with no known parent package",
     "output_type": "error",
     "traceback": [
      "\u001b[0;31m---------------------------------------------------------------------------\u001b[0m",
      "\u001b[0;31mImportError\u001b[0m                               Traceback (most recent call last)",
      "Cell \u001b[0;32mIn [5], line 2\u001b[0m\n\u001b[1;32m      1\u001b[0m \u001b[39mimport\u001b[39;00m \u001b[39mos\u001b[39;00m\n\u001b[0;32m----> 2\u001b[0m \u001b[39mfrom\u001b[39;00m \u001b[39m.\u001b[39;00m\u001b[39m.\u001b[39;00m\u001b[39msrc\u001b[39;00m\u001b[39m.\u001b[39;00m\u001b[39mpdnotion\u001b[39;00m\u001b[39m.\u001b[39;00m\u001b[39mpdnotion\u001b[39;00m \u001b[39mimport\u001b[39;00m pdnotion\n\u001b[1;32m      3\u001b[0m \u001b[39mimport\u001b[39;00m \u001b[39mpandas\u001b[39;00m \u001b[39mas\u001b[39;00m \u001b[39mpd\u001b[39;00m\n\u001b[1;32m      5\u001b[0m pdn \u001b[39m=\u001b[39m pdnotion(os\u001b[39m.\u001b[39mgetenv(\u001b[39m\"\u001b[39m\u001b[39mNOTION_TOKEN\u001b[39m\u001b[39m\"\u001b[39m))\n",
      "\u001b[0;31mImportError\u001b[0m: attempted relative import with no known parent package"
     ]
    }
   ],
   "source": [
    "\n",
    "import os\n",
    "from pdnotion.pdnotion import pdnotion\n",
    "import pandas as pd\n",
    "\n",
    "pdn = pdnotion(os.getenv(\"NOTION_TOKEN\"))\n",
    "DB = os.getenv(\"NOTION_DB\")"
   ]
  },
  {
   "cell_type": "markdown",
   "metadata": {},
   "source": [
    "# insert"
   ]
  },
  {
   "cell_type": "code",
   "execution_count": 4,
   "metadata": {},
   "outputs": [],
   "source": [
    "df = pd.DataFrame([[\"content test\",[\"test_tag\"], \"テキスト\",\"content:\" + \"a\"*3000]],columns=[\"Name\",\"Tags\",\"Text\",\"content\"])\n",
    "props = pdn.properties(DB)\n",
    "row = df.iloc[0]\n",
    "pdn.insert(DB,df,content=\"content\")"
   ]
  },
  {
   "cell_type": "code",
   "execution_count": 5,
   "metadata": {},
   "outputs": [
    {
     "data": {
      "text/plain": [
       "{'Formula': 'formula',\n",
       " 'Tags': 'multi_select',\n",
       " 'Text': 'rich_text',\n",
       " 'Name': 'title'}"
      ]
     },
     "execution_count": 5,
     "metadata": {},
     "output_type": "execute_result"
    }
   ],
   "source": [
    "props"
   ]
  },
  {
   "cell_type": "markdown",
   "metadata": {},
   "source": [
    "# load"
   ]
  },
  {
   "cell_type": "code",
   "execution_count": 3,
   "metadata": {},
   "outputs": [
    {
     "ename": "TypeError",
     "evalue": "'NoneType' object is not subscriptable",
     "output_type": "error",
     "traceback": [
      "\u001b[0;31m---------------------------------------------------------------------------\u001b[0m",
      "\u001b[0;31mTypeError\u001b[0m                                 Traceback (most recent call last)",
      "Cell \u001b[0;32mIn [3], line 1\u001b[0m\n\u001b[0;32m----> 1\u001b[0m tmp \u001b[39m=\u001b[39m pdn\u001b[39m.\u001b[39;49mload(DB)\n\u001b[1;32m      2\u001b[0m \u001b[39mprint\u001b[39m(tmp)\n",
      "File \u001b[0;32m~/Documents/GitHub/pdnotion/venv310/lib/python3.10/site-packages/pdnotion/pdnotion.py:51\u001b[0m, in \u001b[0;36mpdnotion.load\u001b[0;34m(self, db_id, max_page)\u001b[0m\n\u001b[1;32m     49\u001b[0m     page \u001b[39m+\u001b[39m\u001b[39m=\u001b[39m \u001b[39m1\u001b[39m\n\u001b[1;32m     50\u001b[0m     \u001b[39mif\u001b[39;00m max_page \u001b[39m!=\u001b[39m \u001b[39m-\u001b[39m\u001b[39m1\u001b[39m \u001b[39mand\u001b[39;00m page \u001b[39m>\u001b[39m\u001b[39m=\u001b[39m max_page: \u001b[39mbreak\u001b[39;00m\n\u001b[0;32m---> 51\u001b[0m \u001b[39mreturn\u001b[39;00m pd\u001b[39m.\u001b[39mDataFrame(\u001b[39mlist\u001b[39;49m(\u001b[39mmap\u001b[39;49m(\u001b[39mlambda\u001b[39;49;00m d: \u001b[39mself\u001b[39;49m\u001b[39m.\u001b[39;49mparse_notion(d,props), data)))\n",
      "File \u001b[0;32m~/Documents/GitHub/pdnotion/venv310/lib/python3.10/site-packages/pdnotion/pdnotion.py:51\u001b[0m, in \u001b[0;36mpdnotion.load.<locals>.<lambda>\u001b[0;34m(d)\u001b[0m\n\u001b[1;32m     49\u001b[0m     page \u001b[39m+\u001b[39m\u001b[39m=\u001b[39m \u001b[39m1\u001b[39m\n\u001b[1;32m     50\u001b[0m     \u001b[39mif\u001b[39;00m max_page \u001b[39m!=\u001b[39m \u001b[39m-\u001b[39m\u001b[39m1\u001b[39m \u001b[39mand\u001b[39;00m page \u001b[39m>\u001b[39m\u001b[39m=\u001b[39m max_page: \u001b[39mbreak\u001b[39;00m\n\u001b[0;32m---> 51\u001b[0m \u001b[39mreturn\u001b[39;00m pd\u001b[39m.\u001b[39mDataFrame(\u001b[39mlist\u001b[39m(\u001b[39mmap\u001b[39m(\u001b[39mlambda\u001b[39;00m d: \u001b[39mself\u001b[39;49m\u001b[39m.\u001b[39;49mparse_notion(d,props), data)))\n",
      "File \u001b[0;32m~/Documents/GitHub/pdnotion/venv310/lib/python3.10/site-packages/pdnotion/pdnotion.py:54\u001b[0m, in \u001b[0;36mpdnotion.parse_notion\u001b[0;34m(self, row, props)\u001b[0m\n\u001b[1;32m     53\u001b[0m \u001b[39mdef\u001b[39;00m \u001b[39mparse_notion\u001b[39m(\u001b[39mself\u001b[39m,row, props):\n\u001b[0;32m---> 54\u001b[0m     tmp \u001b[39m=\u001b[39m \u001b[39mlist\u001b[39;49m(\u001b[39mmap\u001b[39;49m(\u001b[39mlambda\u001b[39;49;00m k: \u001b[39mself\u001b[39;49m\u001b[39m.\u001b[39;49mparse_item(k,props[k],row),props))\n\u001b[1;32m     55\u001b[0m     tmp \u001b[39m+\u001b[39m\u001b[39m=\u001b[39m [{\u001b[39m\"\u001b[39m\u001b[39m_page_id\u001b[39m\u001b[39m\"\u001b[39m: row[\u001b[39m\"\u001b[39m\u001b[39mid\u001b[39m\u001b[39m\"\u001b[39m]}]\n\u001b[1;32m     56\u001b[0m     \u001b[39mreturn\u001b[39;00m reduce(\u001b[39mlambda\u001b[39;00m a,b: a\u001b[39m|\u001b[39mb,tmp)\n",
      "File \u001b[0;32m~/Documents/GitHub/pdnotion/venv310/lib/python3.10/site-packages/pdnotion/pdnotion.py:54\u001b[0m, in \u001b[0;36mpdnotion.parse_notion.<locals>.<lambda>\u001b[0;34m(k)\u001b[0m\n\u001b[1;32m     53\u001b[0m \u001b[39mdef\u001b[39;00m \u001b[39mparse_notion\u001b[39m(\u001b[39mself\u001b[39m,row, props):\n\u001b[0;32m---> 54\u001b[0m     tmp \u001b[39m=\u001b[39m \u001b[39mlist\u001b[39m(\u001b[39mmap\u001b[39m(\u001b[39mlambda\u001b[39;00m k: \u001b[39mself\u001b[39;49m\u001b[39m.\u001b[39;49mparse_item(k,props[k],row),props))\n\u001b[1;32m     55\u001b[0m     tmp \u001b[39m+\u001b[39m\u001b[39m=\u001b[39m [{\u001b[39m\"\u001b[39m\u001b[39m_page_id\u001b[39m\u001b[39m\"\u001b[39m: row[\u001b[39m\"\u001b[39m\u001b[39mid\u001b[39m\u001b[39m\"\u001b[39m]}]\n\u001b[1;32m     56\u001b[0m     \u001b[39mreturn\u001b[39;00m reduce(\u001b[39mlambda\u001b[39;00m a,b: a\u001b[39m|\u001b[39mb,tmp)\n",
      "File \u001b[0;32m~/Documents/GitHub/pdnotion/venv310/lib/python3.10/site-packages/pdnotion/pdnotion.py:64\u001b[0m, in \u001b[0;36mpdnotion.parse_item\u001b[0;34m(self, name, type, row)\u001b[0m\n\u001b[1;32m     62\u001b[0m \u001b[39mif\u001b[39;00m \u001b[39mtype\u001b[39m \u001b[39m==\u001b[39m \u001b[39m\"\u001b[39m\u001b[39mrich_text\u001b[39m\u001b[39m\"\u001b[39m: v\u001b[39m=\u001b[39m props[name][\u001b[39m\"\u001b[39m\u001b[39mrich_text\u001b[39m\u001b[39m\"\u001b[39m][\u001b[39m0\u001b[39m][\u001b[39m\"\u001b[39m\u001b[39mtext\u001b[39m\u001b[39m\"\u001b[39m][\u001b[39m\"\u001b[39m\u001b[39mcontent\u001b[39m\u001b[39m\"\u001b[39m] \u001b[39mif\u001b[39;00m \u001b[39mlen\u001b[39m(props[name][\u001b[39m\"\u001b[39m\u001b[39mrich_text\u001b[39m\u001b[39m\"\u001b[39m]) \u001b[39m>\u001b[39m \u001b[39m0\u001b[39m \u001b[39melse\u001b[39;00m \u001b[39m\"\u001b[39m\u001b[39m\"\u001b[39m\n\u001b[1;32m     63\u001b[0m \u001b[39mif\u001b[39;00m \u001b[39mtype\u001b[39m \u001b[39m==\u001b[39m \u001b[39m\"\u001b[39m\u001b[39mmulti_select\u001b[39m\u001b[39m\"\u001b[39m: v\u001b[39m=\u001b[39m \u001b[39mlist\u001b[39m(\u001b[39mmap\u001b[39m(\u001b[39mlambda\u001b[39;00m x: x[\u001b[39m\"\u001b[39m\u001b[39mname\u001b[39m\u001b[39m\"\u001b[39m], props[name][\u001b[39m\"\u001b[39m\u001b[39mmulti_select\u001b[39m\u001b[39m\"\u001b[39m]))\n\u001b[0;32m---> 64\u001b[0m \u001b[39mif\u001b[39;00m \u001b[39mtype\u001b[39m \u001b[39m==\u001b[39m \u001b[39m\"\u001b[39m\u001b[39mselect\u001b[39m\u001b[39m\"\u001b[39m: v \u001b[39m=\u001b[39m props[name][\u001b[39m\"\u001b[39;49m\u001b[39mselect\u001b[39;49m\u001b[39m\"\u001b[39;49m][\u001b[39m\"\u001b[39;49m\u001b[39mname\u001b[39;49m\u001b[39m\"\u001b[39;49m] \n\u001b[1;32m     65\u001b[0m \u001b[39mif\u001b[39;00m \u001b[39mtype\u001b[39m \u001b[39m==\u001b[39m \u001b[39m\"\u001b[39m\u001b[39mnumber\u001b[39m\u001b[39m\"\u001b[39m: v \u001b[39m=\u001b[39m props[name][\u001b[39m\"\u001b[39m\u001b[39mnumber\u001b[39m\u001b[39m\"\u001b[39m]\n\u001b[1;32m     66\u001b[0m \u001b[39mif\u001b[39;00m \u001b[39mtype\u001b[39m \u001b[39m==\u001b[39m \u001b[39m\"\u001b[39m\u001b[39mformula\u001b[39m\u001b[39m\"\u001b[39m: v\u001b[39m=\u001b[39m props[name][\u001b[39m\"\u001b[39m\u001b[39mformula\u001b[39m\u001b[39m\"\u001b[39m][\u001b[39m\"\u001b[39m\u001b[39mnumber\u001b[39m\u001b[39m\"\u001b[39m] \u001b[39mif\u001b[39;00m \u001b[39m\"\u001b[39m\u001b[39mnumber\u001b[39m\u001b[39m\"\u001b[39m \u001b[39min\u001b[39;00m props[name][\u001b[39m\"\u001b[39m\u001b[39mformula\u001b[39m\u001b[39m\"\u001b[39m] \u001b[39melse\u001b[39;00m \u001b[39m\"\u001b[39m\u001b[39m\"\u001b[39m\n",
      "\u001b[0;31mTypeError\u001b[0m: 'NoneType' object is not subscriptable"
     ]
    }
   ],
   "source": [
    "tmp = pdn.load(DB)\n",
    "print(tmp)"
   ]
  },
  {
   "cell_type": "code",
   "execution_count": 8,
   "metadata": {},
   "outputs": [
    {
     "data": {
      "text/plain": [
       "Formula                                         \n",
       "Tags                                  [test_tag]\n",
       "Text                                        テキスト\n",
       "Name                                content test\n",
       "_page_id    12abbc21-ec5e-4ade-923a-4d2161a78313\n",
       "Name: 0, dtype: object"
      ]
     },
     "execution_count": 8,
     "metadata": {},
     "output_type": "execute_result"
    }
   ],
   "source": [
    "tmp.iloc[0]"
   ]
  }
 ],
 "metadata": {
  "kernelspec": {
   "display_name": "Python 3.10.7 ('venv310': venv)",
   "language": "python",
   "name": "python3"
  },
  "language_info": {
   "codemirror_mode": {
    "name": "ipython",
    "version": 3
   },
   "file_extension": ".py",
   "mimetype": "text/x-python",
   "name": "python",
   "nbconvert_exporter": "python",
   "pygments_lexer": "ipython3",
   "version": "3.10.7"
  },
  "orig_nbformat": 4,
  "vscode": {
   "interpreter": {
    "hash": "55361332c53d73faf994ab7cce873e33436df45ecf994c66e43f2512054616ac"
   }
  }
 },
 "nbformat": 4,
 "nbformat_minor": 2
}
