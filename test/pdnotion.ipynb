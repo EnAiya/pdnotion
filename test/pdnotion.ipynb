{
 "cells": [
  {
   "cell_type": "code",
   "execution_count": 4,
   "metadata": {},
   "outputs": [],
   "source": [
    "%load_ext dotenv\n",
    "%dotenv"
   ]
  },
  {
   "cell_type": "code",
   "execution_count": 9,
   "metadata": {},
   "outputs": [],
   "source": [
    "\n",
    "import os\n",
    "from pdnotion.pdnotion import pdnotion\n",
    "import pandas as pd\n",
    "\n",
    "pdn = pdnotion(os.getenv(\"NOTION_TOKEN\"))\n",
    "DB = os.getenv(\"NOTION_DB\")"
   ]
  },
  {
   "cell_type": "markdown",
   "metadata": {},
   "source": [
    "# insert"
   ]
  },
  {
   "cell_type": "code",
   "execution_count": 10,
   "metadata": {},
   "outputs": [],
   "source": [
    "df = pd.DataFrame([[\"test\",[\"test_tag\"], \"テキスト\"], [\"test2\",[\"test2_tag\"],\"\"]],columns=[\"Name\",\"Tags\",\"Text\"])\n",
    "props = pdn.properties(DB)\n",
    "row = df.iloc[0]\n",
    "pdn.insert(DB,df)"
   ]
  },
  {
   "cell_type": "code",
   "execution_count": 11,
   "metadata": {},
   "outputs": [
    {
     "data": {
      "text/plain": [
       "{'text': 'rich_text',\n",
       " 'start': 'number',\n",
       " 'released_at': 'rich_text',\n",
       " 'duration': 'number',\n",
       " 'original_thumbnail': 'files',\n",
       " 'video_id': 'rich_text',\n",
       " 'start_second': 'formula',\n",
       " 'スコア': 'formula',\n",
       " 'score': 'number',\n",
       " 'start_minute': 'formula',\n",
       " 'end': 'number',\n",
       " '長さ': 'formula',\n",
       " 'original_title': 'rich_text',\n",
       " 'start_hour': 'formula',\n",
       " 'channel_id': 'rich_text',\n",
       " 'Name': 'title'}"
      ]
     },
     "execution_count": 11,
     "metadata": {},
     "output_type": "execute_result"
    }
   ],
   "source": [
    "props"
   ]
  },
  {
   "cell_type": "markdown",
   "metadata": {},
   "source": [
    "# load"
   ]
  },
  {
   "cell_type": "code",
   "execution_count": 12,
   "metadata": {},
   "outputs": [
    {
     "name": "stdout",
     "output_type": "stream",
     "text": [
      "                                                text start released_at  \\\n",
      "0                                       バルーはバルーはバルーは                     \n",
      "1  バルーはバルーはバルーはバルーはバルーはバルーはバルーはバルーはバルーはバルーはバルーはバル...                     \n",
      "2  見てつも僕いなことを水水してしまったいつおといをんだえーと8目のないたいかいに出させたうんで...                     \n",
      "3  ハレ、ハレ。ハレ、ハレ、ゆっかい。ハレ、ハレ、ゆっかい。感じとさ、言ったかなのさ、ハレ、ハレ...                     \n",
      "4  え、どこもいけんかないこれあ、これなぁパープのカプセルカプセルみたいでも見えるけどこだ、こだ...                     \n",
      "5                                          殺音最後の שלי                     \n",
      "\n",
      "  duration original_thumbnail     video_id start_second スコア score  \\\n",
      "0                              spPP7l7LmAc                          \n",
      "1                              spPP7l7LmAc                          \n",
      "2                              spPP7l7LmAc                          \n",
      "3                              spPP7l7LmAc                          \n",
      "4                              spPP7l7LmAc                          \n",
      "5                              spPP7l7LmAc                          \n",
      "\n",
      "  start_minute end 長さ original_title start_hour channel_id           Name  \n",
      "0                                                           spPP7l7LmAc_5  \n",
      "1                                                           spPP7l7LmAc_4  \n",
      "2                                                           spPP7l7LmAc_3  \n",
      "3                                                           spPP7l7LmAc_2  \n",
      "4                                                           spPP7l7LmAc_1  \n",
      "5                                                           spPP7l7LmAc_0  \n"
     ]
    }
   ],
   "source": [
    "tmp = pdn.load(DB)\n",
    "print(tmp)"
   ]
  }
 ],
 "metadata": {
  "kernelspec": {
   "display_name": "Python 3.10.7 ('venv310': venv)",
   "language": "python",
   "name": "python3"
  },
  "language_info": {
   "codemirror_mode": {
    "name": "ipython",
    "version": 3
   },
   "file_extension": ".py",
   "mimetype": "text/x-python",
   "name": "python",
   "nbconvert_exporter": "python",
   "pygments_lexer": "ipython3",
   "version": "3.10.7"
  },
  "orig_nbformat": 4,
  "vscode": {
   "interpreter": {
    "hash": "55361332c53d73faf994ab7cce873e33436df45ecf994c66e43f2512054616ac"
   }
  }
 },
 "nbformat": 4,
 "nbformat_minor": 2
}
