{
 "cells": [
  {
   "cell_type": "code",
   "execution_count": 1,
   "metadata": {},
   "outputs": [],
   "source": [
    "%load_ext dotenv\n",
    "%dotenv"
   ]
  },
  {
   "cell_type": "code",
   "execution_count": 2,
   "metadata": {},
   "outputs": [],
   "source": [
    "\n",
    "import os\n",
    "from pdnotion.pdnotion import pdnotion\n",
    "import pandas as pd\n",
    "\n",
    "pdn = pdnotion(os.getenv(\"NOTION_TOKEN\"))\n",
    "DB = os.getenv(\"NOTION_DB\")"
   ]
  },
  {
   "cell_type": "markdown",
   "metadata": {},
   "source": [
    "# insert"
   ]
  },
  {
   "cell_type": "code",
   "execution_count": 3,
   "metadata": {},
   "outputs": [
    {
     "ename": "APIResponseError",
     "evalue": "body failed validation: body.children[0].paragraph.rich_text[0].text.content.length should be ≤ `2000`, instead was `3008`.",
     "output_type": "error",
     "traceback": [
      "\u001b[0;31m---------------------------------------------------------------------------\u001b[0m",
      "\u001b[0;31mHTTPStatusError\u001b[0m                           Traceback (most recent call last)",
      "File \u001b[0;32m~/Documents/GitHub/pdnotion/venv310/lib/python3.10/site-packages/notion_client/client.py:116\u001b[0m, in \u001b[0;36mBaseClient._parse_response\u001b[0;34m(self, response)\u001b[0m\n\u001b[1;32m    115\u001b[0m \u001b[39mtry\u001b[39;00m:\n\u001b[0;32m--> 116\u001b[0m     response\u001b[39m.\u001b[39;49mraise_for_status()\n\u001b[1;32m    117\u001b[0m \u001b[39mexcept\u001b[39;00m httpx\u001b[39m.\u001b[39mHTTPStatusError \u001b[39mas\u001b[39;00m error:\n",
      "File \u001b[0;32m~/Documents/GitHub/pdnotion/venv310/lib/python3.10/site-packages/httpx/_models.py:736\u001b[0m, in \u001b[0;36mResponse.raise_for_status\u001b[0;34m(self)\u001b[0m\n\u001b[1;32m    735\u001b[0m message \u001b[39m=\u001b[39m message\u001b[39m.\u001b[39mformat(\u001b[39mself\u001b[39m, error_type\u001b[39m=\u001b[39merror_type)\n\u001b[0;32m--> 736\u001b[0m \u001b[39mraise\u001b[39;00m HTTPStatusError(message, request\u001b[39m=\u001b[39mrequest, response\u001b[39m=\u001b[39m\u001b[39mself\u001b[39m)\n",
      "\u001b[0;31mHTTPStatusError\u001b[0m: Client error '400 Bad Request' for url 'https://api.notion.com/v1/pages'\nFor more information check: https://httpstatuses.com/400",
      "\nDuring handling of the above exception, another exception occurred:\n",
      "\u001b[0;31mAPIResponseError\u001b[0m                          Traceback (most recent call last)",
      "Cell \u001b[0;32mIn [3], line 4\u001b[0m\n\u001b[1;32m      2\u001b[0m props \u001b[39m=\u001b[39m pdn\u001b[39m.\u001b[39mproperties(DB)\n\u001b[1;32m      3\u001b[0m row \u001b[39m=\u001b[39m df\u001b[39m.\u001b[39miloc[\u001b[39m0\u001b[39m]\n\u001b[0;32m----> 4\u001b[0m pdn\u001b[39m.\u001b[39;49minsert(DB,df,content\u001b[39m=\u001b[39;49m\u001b[39m\"\u001b[39;49m\u001b[39mcontent\u001b[39;49m\u001b[39m\"\u001b[39;49m)\n",
      "File \u001b[0;32m~/Documents/GitHub/pdnotion/venv310/lib/python3.10/site-packages/pdnotion/pdnotion.py:44\u001b[0m, in \u001b[0;36mpdnotion.insert\u001b[0;34m(self, db_id, pd, content)\u001b[0m\n\u001b[1;32m     42\u001b[0m props \u001b[39m=\u001b[39m \u001b[39mself\u001b[39m\u001b[39m.\u001b[39mproperties(db_id)\n\u001b[1;32m     43\u001b[0m \u001b[39mfor\u001b[39;00m \u001b[39mid\u001b[39m,row \u001b[39min\u001b[39;00m pd\u001b[39m.\u001b[39miterrows():\n\u001b[0;32m---> 44\u001b[0m     \u001b[39mself\u001b[39;49m\u001b[39m.\u001b[39;49minsert_row(db_id,row,props,content)\n",
      "File \u001b[0;32m~/Documents/GitHub/pdnotion/venv310/lib/python3.10/site-packages/pdnotion/pdnotion.py:38\u001b[0m, in \u001b[0;36mpdnotion.insert_row\u001b[0;34m(self, db_id, row, props, content)\u001b[0m\n\u001b[1;32m     21\u001b[0m \u001b[39mif\u001b[39;00m content \u001b[39mis\u001b[39;00m \u001b[39mnot\u001b[39;00m \u001b[39mNone\u001b[39;00m:\n\u001b[1;32m     22\u001b[0m     q \u001b[39m|\u001b[39m\u001b[39m=\u001b[39m {\n\u001b[1;32m     23\u001b[0m         \u001b[39m\"\u001b[39m\u001b[39mchildren\u001b[39m\u001b[39m\"\u001b[39m:[\n\u001b[1;32m     24\u001b[0m             {\n\u001b[0;32m   (...)\u001b[0m\n\u001b[1;32m     36\u001b[0m         ]\n\u001b[1;32m     37\u001b[0m     }\n\u001b[0;32m---> 38\u001b[0m \u001b[39mself\u001b[39;49m\u001b[39m.\u001b[39;49mclient\u001b[39m.\u001b[39;49mpages\u001b[39m.\u001b[39;49mcreate(\n\u001b[1;32m     39\u001b[0m     \u001b[39m*\u001b[39;49m\u001b[39m*\u001b[39;49mq\n\u001b[1;32m     40\u001b[0m )\n",
      "File \u001b[0;32m~/Documents/GitHub/pdnotion/venv310/lib/python3.10/site-packages/notion_client/api_endpoints.py:197\u001b[0m, in \u001b[0;36mPagesEndpoint.create\u001b[0;34m(self, **kwargs)\u001b[0m\n\u001b[1;32m    192\u001b[0m \u001b[39mdef\u001b[39;00m \u001b[39mcreate\u001b[39m(\u001b[39mself\u001b[39m, \u001b[39m*\u001b[39m\u001b[39m*\u001b[39mkwargs: Any) \u001b[39m-\u001b[39m\u001b[39m>\u001b[39m SyncAsync[Any]:\n\u001b[1;32m    193\u001b[0m     \u001b[39m\"\"\"Create a new page in the specified database or as a child of an existing page.\u001b[39;00m\n\u001b[1;32m    194\u001b[0m \n\u001b[1;32m    195\u001b[0m \u001b[39m    *[🔗 Endpoint documentation](https://developers.notion.com/reference/post-page)*\u001b[39;00m\n\u001b[1;32m    196\u001b[0m \u001b[39m    \"\"\"\u001b[39;00m  \u001b[39m# noqa: E501\u001b[39;00m\n\u001b[0;32m--> 197\u001b[0m     \u001b[39mreturn\u001b[39;00m \u001b[39mself\u001b[39;49m\u001b[39m.\u001b[39;49mparent\u001b[39m.\u001b[39;49mrequest(\n\u001b[1;32m    198\u001b[0m         path\u001b[39m=\u001b[39;49m\u001b[39m\"\u001b[39;49m\u001b[39mpages\u001b[39;49m\u001b[39m\"\u001b[39;49m,\n\u001b[1;32m    199\u001b[0m         method\u001b[39m=\u001b[39;49m\u001b[39m\"\u001b[39;49m\u001b[39mPOST\u001b[39;49m\u001b[39m\"\u001b[39;49m,\n\u001b[1;32m    200\u001b[0m         body\u001b[39m=\u001b[39;49mpick(kwargs, \u001b[39m\"\u001b[39;49m\u001b[39mparent\u001b[39;49m\u001b[39m\"\u001b[39;49m, \u001b[39m\"\u001b[39;49m\u001b[39mproperties\u001b[39;49m\u001b[39m\"\u001b[39;49m, \u001b[39m\"\u001b[39;49m\u001b[39mchildren\u001b[39;49m\u001b[39m\"\u001b[39;49m, \u001b[39m\"\u001b[39;49m\u001b[39micon\u001b[39;49m\u001b[39m\"\u001b[39;49m, \u001b[39m\"\u001b[39;49m\u001b[39mcover\u001b[39;49m\u001b[39m\"\u001b[39;49m),\n\u001b[1;32m    201\u001b[0m         auth\u001b[39m=\u001b[39;49mkwargs\u001b[39m.\u001b[39;49mget(\u001b[39m\"\u001b[39;49m\u001b[39mauth\u001b[39;49m\u001b[39m\"\u001b[39;49m),\n\u001b[1;32m    202\u001b[0m     )\n",
      "File \u001b[0;32m~/Documents/GitHub/pdnotion/venv310/lib/python3.10/site-packages/notion_client/client.py:192\u001b[0m, in \u001b[0;36mClient.request\u001b[0;34m(self, path, method, query, body, auth)\u001b[0m\n\u001b[1;32m    190\u001b[0m \u001b[39mexcept\u001b[39;00m httpx\u001b[39m.\u001b[39mTimeoutException:\n\u001b[1;32m    191\u001b[0m     \u001b[39mraise\u001b[39;00m RequestTimeoutError()\n\u001b[0;32m--> 192\u001b[0m \u001b[39mreturn\u001b[39;00m \u001b[39mself\u001b[39;49m\u001b[39m.\u001b[39;49m_parse_response(response)\n",
      "File \u001b[0;32m~/Documents/GitHub/pdnotion/venv310/lib/python3.10/site-packages/notion_client/client.py:124\u001b[0m, in \u001b[0;36mBaseClient._parse_response\u001b[0;34m(self, response)\u001b[0m\n\u001b[1;32m    122\u001b[0m         code \u001b[39m=\u001b[39m \u001b[39mNone\u001b[39;00m\n\u001b[1;32m    123\u001b[0m     \u001b[39mif\u001b[39;00m code \u001b[39mand\u001b[39;00m is_api_error_code(code):\n\u001b[0;32m--> 124\u001b[0m         \u001b[39mraise\u001b[39;00m APIResponseError(response, body[\u001b[39m\"\u001b[39m\u001b[39mmessage\u001b[39m\u001b[39m\"\u001b[39m], code)\n\u001b[1;32m    125\u001b[0m     \u001b[39mraise\u001b[39;00m HTTPResponseError(error\u001b[39m.\u001b[39mresponse)\n\u001b[1;32m    127\u001b[0m body \u001b[39m=\u001b[39m response\u001b[39m.\u001b[39mjson()\n",
      "\u001b[0;31mAPIResponseError\u001b[0m: body failed validation: body.children[0].paragraph.rich_text[0].text.content.length should be ≤ `2000`, instead was `3008`."
     ]
    }
   ],
   "source": [
    "df = pd.DataFrame([[\"test\",[\"test_tag\"], \"テキスト\",\"content:\" + \"a\"*3000]],columns=[\"Name\",\"Tags\",\"Text\",\"content\"])\n",
    "props = pdn.properties(DB)\n",
    "row = df.iloc[0]\n",
    "pdn.insert(DB,df,content=\"content\")"
   ]
  },
  {
   "cell_type": "code",
   "execution_count": null,
   "metadata": {},
   "outputs": [
    {
     "data": {
      "text/plain": [
       "{'Formula': 'formula',\n",
       " 'Tags': 'multi_select',\n",
       " 'Text': 'rich_text',\n",
       " 'Name': 'title'}"
      ]
     },
     "execution_count": 21,
     "metadata": {},
     "output_type": "execute_result"
    }
   ],
   "source": [
    "props"
   ]
  },
  {
   "cell_type": "markdown",
   "metadata": {},
   "source": [
    "# load"
   ]
  },
  {
   "cell_type": "code",
   "execution_count": null,
   "metadata": {},
   "outputs": [
    {
     "name": "stdout",
     "output_type": "stream",
     "text": [
      "   Formula         Tags  Text   Name\n",
      "0           [test2_tag]        test2\n",
      "1            [test_tag]  テキスト   test\n",
      "2           [test2_tag]        test2\n",
      "3            [test_tag]  テキスト   test\n",
      "4           [test2_tag]        test2\n",
      "5            [test_tag]  テキスト   test\n",
      "6           [test2_tag]        test2\n",
      "7            [test_tag]  テキスト   test\n",
      "8            [test_tag]  テキスト   test\n",
      "9           [test2_tag]        test2\n",
      "10           [test_tag]         test\n",
      "11          [test2_tag]        test2\n",
      "12           [test_tag]         test\n",
      "13          [test2_tag]        test2\n",
      "14           [test_tag]         test\n",
      "15          [test2_tag]        test2\n",
      "16           [test_tag]         test\n",
      "17          [test2_tag]        test2\n",
      "18           [test_tag]         test\n",
      "19          [test2_tag]        test2\n",
      "20           [test_tag]         test\n",
      "21          [test2_tag]        test2\n",
      "22           [test_tag]         test\n",
      "23           [test_tag]         test\n",
      "24           [test_tag]         test\n",
      "25                   []             \n",
      "26                   []             \n",
      "27                   []             \n"
     ]
    }
   ],
   "source": [
    "tmp = pdn.load(DB)\n",
    "print(tmp)"
   ]
  }
 ],
 "metadata": {
  "kernelspec": {
   "display_name": "Python 3.10.7 ('venv310': venv)",
   "language": "python",
   "name": "python3"
  },
  "language_info": {
   "codemirror_mode": {
    "name": "ipython",
    "version": 3
   },
   "file_extension": ".py",
   "mimetype": "text/x-python",
   "name": "python",
   "nbconvert_exporter": "python",
   "pygments_lexer": "ipython3",
   "version": "3.10.7"
  },
  "orig_nbformat": 4,
  "vscode": {
   "interpreter": {
    "hash": "55361332c53d73faf994ab7cce873e33436df45ecf994c66e43f2512054616ac"
   }
  }
 },
 "nbformat": 4,
 "nbformat_minor": 2
}
