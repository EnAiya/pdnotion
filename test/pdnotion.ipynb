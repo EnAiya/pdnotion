{
 "cells": [
  {
   "cell_type": "code",
   "execution_count": 1,
   "metadata": {},
   "outputs": [],
   "source": [
    "%load_ext dotenv\n",
    "%dotenv"
   ]
  },
  {
   "cell_type": "code",
   "execution_count": 2,
   "metadata": {},
   "outputs": [],
   "source": [
    "\n",
    "import os\n",
    "from pdnotion.pdnotion import pdnotion\n",
    "import pandas as pd\n",
    "\n",
    "pdn = pdnotion(os.getenv(\"NOTION_TOKEN\"))\n",
    "DB = os.getenv(\"NOTION_DB\")"
   ]
  },
  {
   "cell_type": "markdown",
   "metadata": {},
   "source": [
    "# insert"
   ]
  },
  {
   "cell_type": "code",
   "execution_count": 3,
   "metadata": {},
   "outputs": [],
   "source": [
    "df = pd.DataFrame([[\"content test\",[\"test_tag\"], \"テキスト\",\"content:\" + \"a\"*3000]],columns=[\"Name\",\"Tags\",\"Text\",\"content\"])\n",
    "props = pdn.properties(DB)\n",
    "row = df.iloc[0]\n",
    "pdn.insert(DB,df,content=\"content\")"
   ]
  },
  {
   "cell_type": "code",
   "execution_count": 4,
   "metadata": {},
   "outputs": [
    {
     "data": {
      "text/plain": [
       "{'Formula': 'formula',\n",
       " 'Tags': 'multi_select',\n",
       " 'Text': 'rich_text',\n",
       " 'Name': 'title'}"
      ]
     },
     "execution_count": 4,
     "metadata": {},
     "output_type": "execute_result"
    }
   ],
   "source": [
    "props"
   ]
  },
  {
   "cell_type": "markdown",
   "metadata": {},
   "source": [
    "# load"
   ]
  },
  {
   "cell_type": "code",
   "execution_count": 5,
   "metadata": {},
   "outputs": [
    {
     "name": "stdout",
     "output_type": "stream",
     "text": [
      "   Formula         Tags  Text          Name\n",
      "0            [test_tag]  テキスト  content test\n",
      "1            [test_tag]  テキスト  content test\n",
      "2            [test_tag]  テキスト          test\n",
      "3            [test_tag]  テキスト          test\n",
      "4           [test2_tag]               test2\n",
      "5            [test_tag]  テキスト          test\n",
      "6           [test2_tag]               test2\n",
      "7            [test_tag]  テキスト          test\n",
      "8           [test2_tag]               test2\n",
      "9            [test_tag]  テキスト          test\n",
      "10          [test2_tag]               test2\n",
      "11           [test_tag]  テキスト          test\n",
      "12           [test_tag]  テキスト          test\n",
      "13          [test2_tag]               test2\n",
      "14           [test_tag]                test\n",
      "15          [test2_tag]               test2\n",
      "16           [test_tag]                test\n",
      "17          [test2_tag]               test2\n",
      "18           [test_tag]                test\n",
      "19          [test2_tag]               test2\n",
      "20           [test_tag]                test\n",
      "21          [test2_tag]               test2\n",
      "22           [test_tag]                test\n",
      "23          [test2_tag]               test2\n",
      "24           [test_tag]                test\n",
      "25          [test2_tag]               test2\n",
      "26           [test_tag]                test\n",
      "27           [test_tag]                test\n",
      "28           [test_tag]                test\n",
      "29                   []                    \n",
      "30                   []                    \n",
      "31                   []                    \n"
     ]
    }
   ],
   "source": [
    "tmp = pdn.load(DB)\n",
    "print(tmp)"
   ]
  }
 ],
 "metadata": {
  "kernelspec": {
   "display_name": "Python 3.10.7 ('venv310': venv)",
   "language": "python",
   "name": "python3"
  },
  "language_info": {
   "codemirror_mode": {
    "name": "ipython",
    "version": 3
   },
   "file_extension": ".py",
   "mimetype": "text/x-python",
   "name": "python",
   "nbconvert_exporter": "python",
   "pygments_lexer": "ipython3",
   "version": "3.10.7"
  },
  "orig_nbformat": 4,
  "vscode": {
   "interpreter": {
    "hash": "55361332c53d73faf994ab7cce873e33436df45ecf994c66e43f2512054616ac"
   }
  }
 },
 "nbformat": 4,
 "nbformat_minor": 2
}
