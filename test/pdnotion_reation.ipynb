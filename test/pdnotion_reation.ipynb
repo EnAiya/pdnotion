{
 "cells": [
  {
   "cell_type": "code",
   "execution_count": 3,
   "metadata": {},
   "outputs": [
    {
     "name": "stdout",
     "output_type": "stream",
     "text": [
      "The dotenv extension is already loaded. To reload it, use:\n",
      "  %reload_ext dotenv\n"
     ]
    }
   ],
   "source": [
    "%load_ext dotenv\n",
    "%dotenv"
   ]
  },
  {
   "cell_type": "code",
   "execution_count": 4,
   "metadata": {},
   "outputs": [],
   "source": [
    "\n",
    "import os\n",
    "from pdnotion.pdnotion import pdnotion\n",
    "import pandas as pd\n",
    "\n",
    "pdn = pdnotion(os.getenv(\"NOTION_TOKEN\"))\n",
    "DB = os.getenv(\"NOTION_DB\")"
   ]
  },
  {
   "cell_type": "markdown",
   "metadata": {},
   "source": [
    "# insert"
   ]
  },
  {
   "cell_type": "markdown",
   "metadata": {},
   "source": [
    "# load"
   ]
  },
  {
   "cell_type": "code",
   "execution_count": 8,
   "metadata": {},
   "outputs": [
    {
     "name": "stdout",
     "output_type": "stream",
     "text": [
      "  Formula                           Date  Checkbox  \\\n",
      "0          2023-05-02T09:44:00.000+00:00     False   \n",
      "1          2023-05-02T05:39:00.000+00:00     False   \n",
      "2          2023-05-01T10:55:00.000+00:00     False   \n",
      "3          2023-05-01T10:52:00.000+00:00     False   \n",
      "4          2023-05-01T10:46:00.000+00:00     False   \n",
      "5          2023-05-01T10:43:00.000+00:00     False   \n",
      "\n",
      "                                              Rollup Tags Select Text  \\\n",
      "0  {'type': 'array', 'array': [{'type': 'date', '...   []     []        \n",
      "1  {'type': 'array', 'array': [], 'function': 'sh...   []     []        \n",
      "2  {'type': 'array', 'array': [], 'function': 'sh...   []     []        \n",
      "3  {'type': 'array', 'array': [], 'function': 'sh...   []     []        \n",
      "4  {'type': 'array', 'array': [], 'function': 'sh...   []     []        \n",
      "5  {'type': 'array', 'array': [], 'function': 'sh...   []     []        \n",
      "\n",
      "                                 Relation       Name  \\\n",
      "0  [e9216a58-9e29-496f-a8b5-55d17fc59950]  date_test   \n",
      "1                                          date_test   \n",
      "2                                          date_test   \n",
      "3                                          date_test   \n",
      "4                                          date_test   \n",
      "5                                          date_test   \n",
      "\n",
      "                               _page_id             _created_time  \\\n",
      "0  aa3a23ce-513a-4a3b-9d47-34911a7179a1 2023-05-02 09:44:00+00:00   \n",
      "1  96c4de6e-66ea-4f24-a7d8-c310ec03683c 2023-05-02 05:39:00+00:00   \n",
      "2  487defda-fe13-4bab-ab16-33b03d9e6393 2023-05-01 10:55:00+00:00   \n",
      "3  5329aa92-d2a4-4457-9df2-eaf836da10dc 2023-05-01 10:52:00+00:00   \n",
      "4  5b0707e2-3ae3-4481-bebe-39b740064900 2023-05-01 10:46:00+00:00   \n",
      "5  a4c5a6a2-adb4-491c-b4d3-bbaaa6cb3bb1 2023-05-01 10:43:00+00:00   \n",
      "\n",
      "          _last_edited_time  \n",
      "0 2023-05-02 09:44:00+00:00  \n",
      "1 2023-05-02 05:39:00+00:00  \n",
      "2 2023-05-01 10:55:00+00:00  \n",
      "3 2023-05-01 10:52:00+00:00  \n",
      "4 2023-05-01 10:46:00+00:00  \n",
      "5 2023-05-01 10:43:00+00:00  \n"
     ]
    }
   ],
   "source": [
    "tmp = pdn.load(DB)\n",
    "print(tmp.head(6))"
   ]
  },
  {
   "cell_type": "code",
   "execution_count": 6,
   "metadata": {},
   "outputs": [
    {
     "data": {
      "text/plain": [
       "Formula                                                               \n",
       "Date                                     2023-05-02T05:39:00.000+00:00\n",
       "Checkbox                                                         False\n",
       "Rollup               {'type': 'array', 'array': [{'type': 'date', '...\n",
       "Tags                                                                []\n",
       "Select                                                              []\n",
       "Text                                                                  \n",
       "Relation                        [e9216a58-9e29-496f-a8b5-55d17fc59950]\n",
       "Name                                                         date_test\n",
       "_page_id                          96c4de6e-66ea-4f24-a7d8-c310ec03683c\n",
       "_created_time                                2023-05-02 05:39:00+00:00\n",
       "_last_edited_time                            2023-05-02 05:39:00+00:00\n",
       "Name: 0, dtype: object"
      ]
     },
     "execution_count": 6,
     "metadata": {},
     "output_type": "execute_result"
    }
   ],
   "source": [
    "tmp.iloc[0]"
   ]
  }
 ],
 "metadata": {
  "kernelspec": {
   "display_name": "Python 3.10.7 ('venv310': venv)",
   "language": "python",
   "name": "python3"
  },
  "language_info": {
   "codemirror_mode": {
    "name": "ipython",
    "version": 3
   },
   "file_extension": ".py",
   "mimetype": "text/x-python",
   "name": "python",
   "nbconvert_exporter": "python",
   "pygments_lexer": "ipython3",
   "version": "3.10.7"
  },
  "orig_nbformat": 4,
  "vscode": {
   "interpreter": {
    "hash": "55361332c53d73faf994ab7cce873e33436df45ecf994c66e43f2512054616ac"
   }
  }
 },
 "nbformat": 4,
 "nbformat_minor": 2
}
