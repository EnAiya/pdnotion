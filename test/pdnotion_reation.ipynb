{
 "cells": [
  {
   "cell_type": "code",
   "execution_count": 20,
   "metadata": {},
   "outputs": [
    {
     "name": "stdout",
     "output_type": "stream",
     "text": [
      "The dotenv extension is already loaded. To reload it, use:\n",
      "  %reload_ext dotenv\n"
     ]
    }
   ],
   "source": [
    "%load_ext dotenv\n",
    "%dotenv"
   ]
  },
  {
   "cell_type": "code",
   "execution_count": 21,
   "metadata": {},
   "outputs": [
    {
     "ename": "ImportError",
     "evalue": "attempted relative import with no known parent package",
     "output_type": "error",
     "traceback": [
      "\u001b[0;31m---------------------------------------------------------------------------\u001b[0m",
      "\u001b[0;31mImportError\u001b[0m                               Traceback (most recent call last)",
      "\u001b[1;32m/Users/t-otoshi/Documents/GitHub/pdnotion/test/pdnotion_reation.ipynb セル 2\u001b[0m in \u001b[0;36m2\n\u001b[1;32m      <a href='vscode-notebook-cell:/Users/t-otoshi/Documents/GitHub/pdnotion/test/pdnotion_reation.ipynb#W1sZmlsZQ%3D%3D?line=0'>1</a>\u001b[0m \u001b[39mimport\u001b[39;00m \u001b[39mos\u001b[39;00m\n\u001b[0;32m----> <a href='vscode-notebook-cell:/Users/t-otoshi/Documents/GitHub/pdnotion/test/pdnotion_reation.ipynb#W1sZmlsZQ%3D%3D?line=1'>2</a>\u001b[0m \u001b[39mfrom\u001b[39;00m \u001b[39m.\u001b[39;00m\u001b[39m.\u001b[39;00m\u001b[39msrc\u001b[39;00m\u001b[39m.\u001b[39;00m\u001b[39mpdnotion\u001b[39;00m\u001b[39m.\u001b[39;00m\u001b[39mpdnotion\u001b[39;00m \u001b[39mimport\u001b[39;00m pdnotion\n\u001b[1;32m      <a href='vscode-notebook-cell:/Users/t-otoshi/Documents/GitHub/pdnotion/test/pdnotion_reation.ipynb#W1sZmlsZQ%3D%3D?line=2'>3</a>\u001b[0m \u001b[39mimport\u001b[39;00m \u001b[39mpandas\u001b[39;00m \u001b[39mas\u001b[39;00m \u001b[39mpd\u001b[39;00m\n\u001b[1;32m      <a href='vscode-notebook-cell:/Users/t-otoshi/Documents/GitHub/pdnotion/test/pdnotion_reation.ipynb#W1sZmlsZQ%3D%3D?line=4'>5</a>\u001b[0m pdn \u001b[39m=\u001b[39m pdnotion(os\u001b[39m.\u001b[39mgetenv(\u001b[39m\"\u001b[39m\u001b[39mNOTION_TOKEN\u001b[39m\u001b[39m\"\u001b[39m))\n",
      "\u001b[0;31mImportError\u001b[0m: attempted relative import with no known parent package"
     ]
    }
   ],
   "source": [
    "\n",
    "import os\n",
    "from src.pdnotion.pdnotion import pdnotion\n",
    "import pandas as pd\n",
    "\n",
    "pdn = pdnotion(os.getenv(\"NOTION_TOKEN\"))\n",
    "DB = os.getenv(\"NOTION_DB\")"
   ]
  },
  {
   "cell_type": "markdown",
   "metadata": {},
   "source": [
    "# insert"
   ]
  },
  {
   "cell_type": "markdown",
   "metadata": {},
   "source": [
    "# load"
   ]
  },
  {
   "cell_type": "code",
   "execution_count": null,
   "metadata": {},
   "outputs": [
    {
     "name": "stdout",
     "output_type": "stream",
     "text": [
      "  Formula Date Checkbox Rollup Tags Select Text Related 開発用(pdnotion)  \\\n",
      "0                                []     []                              \n",
      "1                                []     []                              \n",
      "2                                []     []                              \n",
      "3                                []     []                              \n",
      "4                                []     []                              \n",
      "5                                []     []                              \n",
      "\n",
      "        Name                              _page_id  \n",
      "0  date_test  95221a87-b68c-4a8c-a2e0-e4ef0d76e6ac  \n",
      "1  date_test  70897cdb-4171-43cd-9bb9-279899b31027  \n",
      "2  date_test  428ced39-378b-423d-ae53-83a4280592c5  \n",
      "3  date_test  ed967966-3ea2-4aa4-ab93-4a446769091a  \n",
      "4  date_test  3965a5e0-3eef-4b00-bfd6-9d357df2ba61  \n",
      "5  date_test  49d2b690-e32d-4eba-b0a8-361896ee6cea  \n"
     ]
    }
   ],
   "source": [
    "tmp = pdn.load(DB)\n",
    "print(tmp.head(6))"
   ]
  },
  {
   "cell_type": "code",
   "execution_count": null,
   "metadata": {},
   "outputs": [
    {
     "data": {
      "text/plain": [
       "Formula                                                      \n",
       "Date                                                         \n",
       "Checkbox                                                     \n",
       "Rollup                                                       \n",
       "Tags                                                       []\n",
       "Select                                                     []\n",
       "Text                                                         \n",
       "Related 開発用(pdnotion)                                        \n",
       "Name                                                date_test\n",
       "_page_id                 95221a87-b68c-4a8c-a2e0-e4ef0d76e6ac\n",
       "Name: 0, dtype: object"
      ]
     },
     "execution_count": 14,
     "metadata": {},
     "output_type": "execute_result"
    }
   ],
   "source": [
    "tmp.iloc[0]"
   ]
  }
 ],
 "metadata": {
  "kernelspec": {
   "display_name": "Python 3.10.7 ('venv310': venv)",
   "language": "python",
   "name": "python3"
  },
  "language_info": {
   "codemirror_mode": {
    "name": "ipython",
    "version": 3
   },
   "file_extension": ".py",
   "mimetype": "text/x-python",
   "name": "python",
   "nbconvert_exporter": "python",
   "pygments_lexer": "ipython3",
   "version": "3.10.7"
  },
  "orig_nbformat": 4,
  "vscode": {
   "interpreter": {
    "hash": "55361332c53d73faf994ab7cce873e33436df45ecf994c66e43f2512054616ac"
   }
  }
 },
 "nbformat": 4,
 "nbformat_minor": 2
}
